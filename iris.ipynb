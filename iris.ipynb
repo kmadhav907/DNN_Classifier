{
 "cells": [
  {
   "cell_type": "code",
   "execution_count": 14,
   "metadata": {
    "colab": {},
    "colab_type": "code",
    "id": "MB4696zhNJ1A"
   },
   "outputs": [
    {
     "name": "stderr",
     "output_type": "stream",
     "text": [
      "UsageError: Line magic function `%tensorflow_version` not found.\n"
     ]
    }
   ],
   "source": [
    "from __future__ import absolute_import,unicode_literals,division,print_function\n",
    "!pip install -q sklearn\n",
    "%tensorflow_version 2.x\n",
    "import tensorflow as tf\n",
    "\n",
    "\n",
    "\n",
    "\n",
    "\n",
    "\n",
    "\n"
   ]
  },
  {
   "cell_type": "code",
   "execution_count": 16,
   "metadata": {
    "colab": {
     "base_uri": "https://localhost:8080/",
     "height": 34
    },
    "colab_type": "code",
    "executionInfo": {
     "elapsed": 2813,
     "status": "ok",
     "timestamp": 1589294844192,
     "user": {
      "displayName": "Madhav Bhat",
      "photoUrl": "https://lh3.googleusercontent.com/a-/AOh14GiXYE6affPPrf1zIwSrSpSZFU3JjaPFXlQtnkG1vw=s64",
      "userId": "12033857363807842694"
     },
     "user_tz": -330
    },
    "id": "9j3pDtbCJwB7",
    "outputId": "1468927d-3ade-4f4d-a934-d3fc0e1abd72"
   },
   "outputs": [],
   "source": [
    "import seaborn as sns\n",
    "\n",
    "import pandas as pd\n"
   ]
  },
  {
   "cell_type": "code",
   "execution_count": 0,
   "metadata": {
    "colab": {},
    "colab_type": "code",
    "id": "bxan6a4mKF82"
   },
   "outputs": [],
   "source": []
  },
  {
   "cell_type": "code",
   "execution_count": 8,
   "metadata": {
    "colab": {},
    "colab_type": "code",
    "id": "G20_8Xwfdgy_"
   },
   "outputs": [],
   "source": [
    "CSV_COLUMNS=['SepalLength','SepalWidth','PetalLength','PetalWidth','Species']\n",
    "SPECIES=['setosa','Versicolor','Virgincia']"
   ]
  },
  {
   "cell_type": "code",
   "execution_count": 9,
   "metadata": {
    "colab": {},
    "colab_type": "code",
    "id": "aqh4YGb7edL8"
   },
   "outputs": [],
   "source": [
    "Test_path=\"iris_test (1).csv\"\n",
    "Train_path = \"iris_training.csv\""
   ]
  },
  {
   "cell_type": "code",
   "execution_count": 10,
   "metadata": {
    "colab": {
     "base_uri": "https://localhost:8080/",
     "height": 195
    },
    "colab_type": "code",
    "executionInfo": {
     "elapsed": 1840,
     "status": "ok",
     "timestamp": 1589294855763,
     "user": {
      "displayName": "Madhav Bhat",
      "photoUrl": "https://lh3.googleusercontent.com/a-/AOh14GiXYE6affPPrf1zIwSrSpSZFU3JjaPFXlQtnkG1vw=s64",
      "userId": "12033857363807842694"
     },
     "user_tz": -330
    },
    "id": "ZYQ5yry-f51V",
    "outputId": "7c1fc3e0-998c-413a-deaf-1ac500997777"
   },
   "outputs": [
    {
     "data": {
      "text/html": [
       "<div>\n",
       "<style scoped>\n",
       "    .dataframe tbody tr th:only-of-type {\n",
       "        vertical-align: middle;\n",
       "    }\n",
       "\n",
       "    .dataframe tbody tr th {\n",
       "        vertical-align: top;\n",
       "    }\n",
       "\n",
       "    .dataframe thead th {\n",
       "        text-align: right;\n",
       "    }\n",
       "</style>\n",
       "<table border=\"1\" class=\"dataframe\">\n",
       "  <thead>\n",
       "    <tr style=\"text-align: right;\">\n",
       "      <th></th>\n",
       "      <th>SepalLength</th>\n",
       "      <th>SepalWidth</th>\n",
       "      <th>PetalLength</th>\n",
       "      <th>PetalWidth</th>\n",
       "      <th>Species</th>\n",
       "    </tr>\n",
       "  </thead>\n",
       "  <tbody>\n",
       "    <tr>\n",
       "      <th>0</th>\n",
       "      <td>5.9</td>\n",
       "      <td>3.0</td>\n",
       "      <td>4.2</td>\n",
       "      <td>1.5</td>\n",
       "      <td>1</td>\n",
       "    </tr>\n",
       "    <tr>\n",
       "      <th>1</th>\n",
       "      <td>6.9</td>\n",
       "      <td>3.1</td>\n",
       "      <td>5.4</td>\n",
       "      <td>2.1</td>\n",
       "      <td>2</td>\n",
       "    </tr>\n",
       "    <tr>\n",
       "      <th>2</th>\n",
       "      <td>5.1</td>\n",
       "      <td>3.3</td>\n",
       "      <td>1.7</td>\n",
       "      <td>0.5</td>\n",
       "      <td>0</td>\n",
       "    </tr>\n",
       "    <tr>\n",
       "      <th>3</th>\n",
       "      <td>6.0</td>\n",
       "      <td>3.4</td>\n",
       "      <td>4.5</td>\n",
       "      <td>1.6</td>\n",
       "      <td>1</td>\n",
       "    </tr>\n",
       "    <tr>\n",
       "      <th>4</th>\n",
       "      <td>5.5</td>\n",
       "      <td>2.5</td>\n",
       "      <td>4.0</td>\n",
       "      <td>1.3</td>\n",
       "      <td>1</td>\n",
       "    </tr>\n",
       "  </tbody>\n",
       "</table>\n",
       "</div>"
      ],
      "text/plain": [
       "   SepalLength  SepalWidth  PetalLength  PetalWidth  Species\n",
       "0          5.9         3.0          4.2         1.5        1\n",
       "1          6.9         3.1          5.4         2.1        2\n",
       "2          5.1         3.3          1.7         0.5        0\n",
       "3          6.0         3.4          4.5         1.6        1\n",
       "4          5.5         2.5          4.0         1.3        1"
      ]
     },
     "execution_count": 10,
     "metadata": {},
     "output_type": "execute_result"
    }
   ],
   "source": [
    "\n",
    "train=pd.read_csv(Train_path,names=CSV_COLUMNS,header=0)\n",
    "test=pd.read_csv(Test_path,names=CSV_COLUMNS,header=0)\n",
    "\n",
    "\n",
    "\n",
    "train.head() \n",
    "test.head()\n",
    "\n",
    "\n",
    "\n"
   ]
  },
  {
   "cell_type": "code",
   "execution_count": 11,
   "metadata": {
    "colab": {
     "base_uri": "https://localhost:8080/",
     "height": 34
    },
    "colab_type": "code",
    "executionInfo": {
     "elapsed": 1581,
     "status": "ok",
     "timestamp": 1589294858919,
     "user": {
      "displayName": "Madhav Bhat",
      "photoUrl": "https://lh3.googleusercontent.com/a-/AOh14GiXYE6affPPrf1zIwSrSpSZFU3JjaPFXlQtnkG1vw=s64",
      "userId": "12033857363807842694"
     },
     "user_tz": -330
    },
    "id": "Sy1oEa5zK6KB",
    "outputId": "59457bb2-3dab-4b07-c96a-615ccfc61fff"
   },
   "outputs": [
    {
     "data": {
      "text/plain": [
       "(30, 5)"
      ]
     },
     "execution_count": 11,
     "metadata": {},
     "output_type": "execute_result"
    }
   ],
   "source": [
    "test.shape"
   ]
  },
  {
   "cell_type": "code",
   "execution_count": 12,
   "metadata": {
    "colab": {
     "base_uri": "https://localhost:8080/",
     "height": 34
    },
    "colab_type": "code",
    "executionInfo": {
     "elapsed": 1314,
     "status": "ok",
     "timestamp": 1589294860892,
     "user": {
      "displayName": "Madhav Bhat",
      "photoUrl": "https://lh3.googleusercontent.com/a-/AOh14GiXYE6affPPrf1zIwSrSpSZFU3JjaPFXlQtnkG1vw=s64",
      "userId": "12033857363807842694"
     },
     "user_tz": -330
    },
    "id": "J4-np2MqLlq7",
    "outputId": "59679777-f867-4175-e1ed-b7f2ee7f4415"
   },
   "outputs": [
    {
     "data": {
      "text/plain": [
       "(120, 5)"
      ]
     },
     "execution_count": 12,
     "metadata": {},
     "output_type": "execute_result"
    }
   ],
   "source": [
    "train.shape"
   ]
  },
  {
   "cell_type": "markdown",
   "metadata": {
    "colab_type": "text",
    "id": "xqgr7AQvTxP8"
   },
   "source": [
    "**Dataset:    **         \n",
    "This specific dataset seperates flowers into 3 different classes of species.\n",
    "\n",
    "Setosa                    \n",
    "Versicolor             \n",
    "Virginica                \n",
    "\n",
    "The information about each flower is the following.\n",
    "\n",
    "sepal length               \n",
    "sepal width           \n",
    "petal length                  \n",
    "petal width                     "
   ]
  },
  {
   "cell_type": "code",
   "execution_count": 17,
   "metadata": {
    "colab": {
     "base_uri": "https://localhost:8080/",
     "height": 297
    },
    "colab_type": "code",
    "executionInfo": {
     "elapsed": 1491,
     "status": "ok",
     "timestamp": 1589294864395,
     "user": {
      "displayName": "Madhav Bhat",
      "photoUrl": "https://lh3.googleusercontent.com/a-/AOh14GiXYE6affPPrf1zIwSrSpSZFU3JjaPFXlQtnkG1vw=s64",
      "userId": "12033857363807842694"
     },
     "user_tz": -330
    },
    "id": "m-durB4gTSPk",
    "outputId": "c0a045ba-2654-4c23-f762-61a8fb4eb830"
   },
   "outputs": [
    {
     "data": {
      "text/plain": [
       "<matplotlib.axes._subplots.AxesSubplot at 0x26e8f096e08>"
      ]
     },
     "execution_count": 17,
     "metadata": {},
     "output_type": "execute_result"
    },
    {
     "data": {
      "image/png": "[encoded data removed]",
      "text/plain": [
       "<Figure size 432x288 with 1 Axes>"
      ]
     },
     "metadata": {
      "needs_background": "light"
     },
     "output_type": "display_data"
    }
   ],
   "source": [
    "sns.countplot(x='Species',data=train)# 0 stands for setosa ,1 stands for versicolor,2 stands for virgincia"
   ]
  },
  {
   "cell_type": "markdown",
   "metadata": {
    "colab_type": "text",
    "id": "jQUX4qh-V19N"
   },
   "source": [
    "Separating dependent and Independent Variable\n"
   ]
  },
  {
   "cell_type": "code",
   "execution_count": 0,
   "metadata": {
    "colab": {},
    "colab_type": "code",
    "id": "sEdYULtcTcov"
   },
   "outputs": [],
   "source": [
    "train_y = train.pop('Species')\n",
    "test_y = test.pop('Species')\n"
   ]
  },
  {
   "cell_type": "markdown",
   "metadata": {
    "colab_type": "text",
    "id": "UVtZdGpfVyEO"
   },
   "source": [
    "Data Cleaning"
   ]
  },
  {
   "cell_type": "code",
   "execution_count": 84,
   "metadata": {
    "colab": {
     "base_uri": "https://localhost:8080/",
     "height": 105
    },
    "colab_type": "code",
    "executionInfo": {
     "elapsed": 752,
     "status": "ok",
     "timestamp": 1589294868163,
     "user": {
      "displayName": "Madhav Bhat",
      "photoUrl": "https://lh3.googleusercontent.com/a-/AOh14GiXYE6affPPrf1zIwSrSpSZFU3JjaPFXlQtnkG1vw=s64",
      "userId": "12033857363807842694"
     },
     "user_tz": -330
    },
    "id": "j8UO2BUIVcRF",
    "outputId": "3f85a3c2-34ca-4cfc-f5c6-feccb58b81c0"
   },
   "outputs": [
    {
     "data": {
      "text/plain": [
       "SepalLength    False\n",
       "SepalWidth     False\n",
       "PetalLength    False\n",
       "PetalWidth     False\n",
       "dtype: bool"
      ]
     },
     "execution_count": 84,
     "metadata": {
      "tags": []
     },
     "output_type": "execute_result"
    }
   ],
   "source": [
    "train.isnull().any()#To check any NAN values in training set"
   ]
  },
  {
   "cell_type": "code",
   "execution_count": 85,
   "metadata": {
    "colab": {
     "base_uri": "https://localhost:8080/",
     "height": 105
    },
    "colab_type": "code",
    "executionInfo": {
     "elapsed": 1081,
     "status": "ok",
     "timestamp": 1589294870535,
     "user": {
      "displayName": "Madhav Bhat",
      "photoUrl": "https://lh3.googleusercontent.com/a-/AOh14GiXYE6affPPrf1zIwSrSpSZFU3JjaPFXlQtnkG1vw=s64",
      "userId": "12033857363807842694"
     },
     "user_tz": -330
    },
    "id": "E3HwQf9RVmy6",
    "outputId": "c9cf1d01-e20b-43d6-e0e6-50d46161eff6"
   },
   "outputs": [
    {
     "data": {
      "text/plain": [
       "SepalLength    False\n",
       "SepalWidth     False\n",
       "PetalLength    False\n",
       "PetalWidth     False\n",
       "dtype: bool"
      ]
     },
     "execution_count": 85,
     "metadata": {
      "tags": []
     },
     "output_type": "execute_result"
    }
   ],
   "source": [
    "test.isnull().any()#To check any NAN in the testing set"
   ]
  },
  {
   "cell_type": "markdown",
   "metadata": {
    "colab_type": "text",
    "id": "9BqhJ1lxWApm"
   },
   "source": [
    "Shuffling and Repeating the data to form an epoch"
   ]
  },
  {
   "cell_type": "code",
   "execution_count": 0,
   "metadata": {
    "colab": {},
    "colab_type": "code",
    "id": "XyKrxLlrh2o-"
   },
   "outputs": [],
   "source": [
    "def input_fn(features, labels, training=True, batch_size=256):\n",
    "    # Convert the inputs to a Dataset.\n",
    "    dataset = tf.data.Dataset.from_tensor_slices((dict(features), labels))\n",
    "\n",
    "    # Shuffle and repeat if you are in training mode.\n",
    "    if training:\n",
    "        dataset = dataset.shuffle(1000).repeat()\n",
    "    \n",
    "    return dataset.batch(batch_size)"
   ]
  },
  {
   "cell_type": "markdown",
   "metadata": {
    "colab_type": "text",
    "id": "9XA7bGX6WIEz"
   },
   "source": [
    "Making the Feature headers , so to use the headers easily"
   ]
  },
  {
   "cell_type": "code",
   "execution_count": 87,
   "metadata": {
    "colab": {
     "base_uri": "https://localhost:8080/",
     "height": 54
    },
    "colab_type": "code",
    "executionInfo": {
     "elapsed": 1811,
     "status": "ok",
     "timestamp": 1589294876753,
     "user": {
      "displayName": "Madhav Bhat",
      "photoUrl": "https://lh3.googleusercontent.com/a-/AOh14GiXYE6affPPrf1zIwSrSpSZFU3JjaPFXlQtnkG1vw=s64",
      "userId": "12033857363807842694"
     },
     "user_tz": -330
    },
    "id": "nlFbPry6K1wl",
    "outputId": "7ba029bf-90ad-45d6-d938-8cdd227e1acc"
   },
   "outputs": [
    {
     "name": "stdout",
     "output_type": "stream",
     "text": [
      "[NumericColumn(key='SepalLength', shape=(1,), default_value=None, dtype=tf.float32, normalizer_fn=None), NumericColumn(key='SepalWidth', shape=(1,), default_value=None, dtype=tf.float32, normalizer_fn=None), NumericColumn(key='PetalLength', shape=(1,), default_value=None, dtype=tf.float32, normalizer_fn=None), NumericColumn(key='PetalWidth', shape=(1,), default_value=None, dtype=tf.float32, normalizer_fn=None)]\n"
     ]
    }
   ],
   "source": [
    "# Feature columns describe how to use the input.\n",
    "my_feature_columns = []\n",
    "for key in train.keys():\n",
    "    my_feature_columns.append(tf.feature_column.numeric_column(key=key))\n",
    "print(my_feature_columns)"
   ]
  },
  {
   "cell_type": "markdown",
   "metadata": {
    "colab_type": "text",
    "id": "h6qK2GY6Uort"
   },
   "source": [
    "I Have tried with Logistic Regression , but i dint get preferred accuracy"
   ]
  },
  {
   "cell_type": "code",
   "execution_count": 88,
   "metadata": {
    "colab": {
     "base_uri": "https://localhost:8080/",
     "height": 195
    },
    "colab_type": "code",
    "executionInfo": {
     "elapsed": 1067,
     "status": "ok",
     "timestamp": 1589294879365,
     "user": {
      "displayName": "Madhav Bhat",
      "photoUrl": "https://lh3.googleusercontent.com/a-/AOh14GiXYE6affPPrf1zIwSrSpSZFU3JjaPFXlQtnkG1vw=s64",
      "userId": "12033857363807842694"
     },
     "user_tz": -330
    },
    "id": "Bf1V6MTTL_Sz",
    "outputId": "9eea4760-37d9-4263-c6f7-d2fbcb57915a"
   },
   "outputs": [
    {
     "name": "stdout",
     "output_type": "stream",
     "text": [
      "INFO:tensorflow:Using default config.\n",
      "WARNING:tensorflow:Using temporary folder as model directory: /tmp/tmpfpmwduv_\n",
      "INFO:tensorflow:Using config: {'_model_dir': '/tmp/tmpfpmwduv_', '_tf_random_seed': None, '_save_summary_steps': 100, '_save_checkpoints_steps': None, '_save_checkpoints_secs': 600, '_session_config': allow_soft_placement: true\n",
      "graph_options {\n",
      "  rewrite_options {\n",
      "    meta_optimizer_iterations: ONE\n",
      "  }\n",
      "}\n",
      ", '_keep_checkpoint_max': 5, '_keep_checkpoint_every_n_hours': 10000, '_log_step_count_steps': 100, '_train_distribute': None, '_device_fn': None, '_protocol': None, '_eval_distribute': None, '_experimental_distribute': None, '_experimental_max_worker_delay_secs': None, '_session_creation_timeout_secs': 7200, '_service': None, '_cluster_spec': ClusterSpec({}), '_task_type': 'worker', '_task_id': 0, '_global_id_in_cluster': 0, '_master': '', '_evaluation_master': '', '_is_chief': True, '_num_ps_replicas': 0, '_num_worker_replicas': 1}\n"
     ]
    }
   ],
   "source": [
    "# Build a DNN with 2 hidden layers with 30 and 10 hidden nodes each.\n",
    "classifier = tf.estimator.DNNClassifier(\n",
    "    feature_columns=my_feature_columns,\n",
    "    # Two hidden layers of 30 and 10 nodes respectively.\n",
    "    hidden_units=[30, 10],\n",
    "    # The model must choose between 3 classes.\n",
    "    n_classes=3)"
   ]
  },
  {
   "cell_type": "markdown",
   "metadata": {
    "colab_type": "text",
    "id": "dQlajZSsU88F"
   },
   "source": [
    "So I used DNN for classification"
   ]
  },
  {
   "cell_type": "code",
   "execution_count": 93,
   "metadata": {
    "colab": {
     "base_uri": "https://localhost:8080/",
     "height": 565
    },
    "colab_type": "code",
    "executionInfo": {
     "elapsed": 3543,
     "status": "ok",
     "timestamp": 1589294929899,
     "user": {
      "displayName": "Madhav Bhat",
      "photoUrl": "https://lh3.googleusercontent.com/a-/AOh14GiXYE6affPPrf1zIwSrSpSZFU3JjaPFXlQtnkG1vw=s64",
      "userId": "12033857363807842694"
     },
     "user_tz": -330
    },
    "id": "ZBPMVm_uMFLq",
    "outputId": "d42ee25e-9029-493e-daf6-4cdfaf661060"
   },
   "outputs": [
    {
     "name": "stdout",
     "output_type": "stream",
     "text": [
      "INFO:tensorflow:Calling model_fn.\n",
      "WARNING:tensorflow:Layer dnn is casting an input tensor from dtype float64 to the layer's dtype of float32, which is new behavior in TensorFlow 2.  The layer has dtype float32 because it's dtype defaults to floatx.\n",
      "\n",
      "If you intended to run this layer in float32, you can safely ignore this warning. If in doubt, this warning is likely only an issue if you are porting a TensorFlow 1.X model to TensorFlow 2.\n",
      "\n",
      "To change all layers to have dtype float64 by default, call `tf.keras.backend.set_floatx('float64')`. To change just this layer, pass dtype='float64' to the layer constructor. If you are the author of this layer, you can disable autocasting by passing autocast=False to the base Layer constructor.\n",
      "\n",
      "INFO:tensorflow:Done calling model_fn.\n",
      "INFO:tensorflow:Create CheckpointSaverHook.\n",
      "INFO:tensorflow:Graph was finalized.\n",
      "INFO:tensorflow:Restoring parameters from /tmp/tmpfpmwduv_/model.ckpt-10000\n",
      "INFO:tensorflow:Running local_init_op.\n",
      "INFO:tensorflow:Done running local_init_op.\n",
      "INFO:tensorflow:Calling checkpoint listeners before saving checkpoint 10000...\n",
      "INFO:tensorflow:Saving checkpoints for 10000 into /tmp/tmpfpmwduv_/model.ckpt.\n",
      "INFO:tensorflow:Calling checkpoint listeners after saving checkpoint 10000...\n",
      "INFO:tensorflow:loss = 0.39770922, step = 10000\n",
      "INFO:tensorflow:global_step/sec: 499.723\n",
      "INFO:tensorflow:loss = 0.38449517, step = 10100 (0.203 sec)\n",
      "INFO:tensorflow:global_step/sec: 663.713\n",
      "INFO:tensorflow:loss = 0.39274532, step = 10200 (0.149 sec)\n",
      "INFO:tensorflow:global_step/sec: 665.297\n",
      "INFO:tensorflow:loss = 0.3942222, step = 10300 (0.152 sec)\n",
      "INFO:tensorflow:global_step/sec: 623.343\n",
      "INFO:tensorflow:loss = 0.40101326, step = 10400 (0.160 sec)\n",
      "INFO:tensorflow:Calling checkpoint listeners before saving checkpoint 10500...\n",
      "INFO:tensorflow:Saving checkpoints for 10500 into /tmp/tmpfpmwduv_/model.ckpt.\n",
      "INFO:tensorflow:Calling checkpoint listeners after saving checkpoint 10500...\n",
      "INFO:tensorflow:Loss for final step: 0.37640783.\n"
     ]
    },
    {
     "data": {
      "text/plain": [
       "<tensorflow_estimator.python.estimator.canned.dnn.DNNClassifierV2 at 0x7f5fe2cab550>"
      ]
     },
     "execution_count": 93,
     "metadata": {
      "tags": []
     },
     "output_type": "execute_result"
    }
   ],
   "source": [
    "classifier.train(\n",
    "    input_fn=lambda: input_fn(train, train_y, training=True),\n",
    "    steps=500)\n",
    "# We include a lambda to avoid creating an inner function previously\n",
    "#Training the model"
   ]
  },
  {
   "cell_type": "code",
   "execution_count": 94,
   "metadata": {
    "colab": {
     "base_uri": "https://localhost:8080/",
     "height": 389
    },
    "colab_type": "code",
    "executionInfo": {
     "elapsed": 2443,
     "status": "ok",
     "timestamp": 1589294935574,
     "user": {
      "displayName": "Madhav Bhat",
      "photoUrl": "https://lh3.googleusercontent.com/a-/AOh14GiXYE6affPPrf1zIwSrSpSZFU3JjaPFXlQtnkG1vw=s64",
      "userId": "12033857363807842694"
     },
     "user_tz": -330
    },
    "id": "uH1j3grVMMe5",
    "outputId": "398d3470-18d6-4372-b5f1-95dcc9bf27eb"
   },
   "outputs": [
    {
     "name": "stdout",
     "output_type": "stream",
     "text": [
      "INFO:tensorflow:Calling model_fn.\n",
      "WARNING:tensorflow:Layer dnn is casting an input tensor from dtype float64 to the layer's dtype of float32, which is new behavior in TensorFlow 2.  The layer has dtype float32 because it's dtype defaults to floatx.\n",
      "\n",
      "If you intended to run this layer in float32, you can safely ignore this warning. If in doubt, this warning is likely only an issue if you are porting a TensorFlow 1.X model to TensorFlow 2.\n",
      "\n",
      "To change all layers to have dtype float64 by default, call `tf.keras.backend.set_floatx('float64')`. To change just this layer, pass dtype='float64' to the layer constructor. If you are the author of this layer, you can disable autocasting by passing autocast=False to the base Layer constructor.\n",
      "\n",
      "INFO:tensorflow:Done calling model_fn.\n",
      "INFO:tensorflow:Starting evaluation at 2020-05-12T14:48:54Z\n",
      "INFO:tensorflow:Graph was finalized.\n",
      "INFO:tensorflow:Restoring parameters from /tmp/tmpfpmwduv_/model.ckpt-10500\n",
      "INFO:tensorflow:Running local_init_op.\n",
      "INFO:tensorflow:Done running local_init_op.\n",
      "INFO:tensorflow:Inference Time : 0.23628s\n",
      "INFO:tensorflow:Finished evaluation at 2020-05-12-14:48:55\n",
      "INFO:tensorflow:Saving dict for global step 10500: accuracy = 0.8666667, average_loss = 0.4630648, global_step = 10500, loss = 0.4630648\n",
      "INFO:tensorflow:Saving 'checkpoint_path' summary for global step 10500: /tmp/tmpfpmwduv_/model.ckpt-10500\n",
      "\n",
      "Test set accuracy: 0.867\n",
      "\n"
     ]
    }
   ],
   "source": [
    "eval_result = classifier.evaluate(\n",
    "    input_fn=lambda: input_fn(test, test_y, training=False))\n",
    "\n",
    "print('\\nTest set accuracy: {accuracy:0.3f}\\n'.format(**eval_result))\n",
    "#Predicting the Accuracy"
   ]
  },
  {
   "cell_type": "code",
   "execution_count": 95,
   "metadata": {
    "colab": {
     "base_uri": "https://localhost:8080/",
     "height": 246
    },
    "colab_type": "code",
    "executionInfo": {
     "elapsed": 23385,
     "status": "ok",
     "timestamp": 1589294964188,
     "user": {
      "displayName": "Madhav Bhat",
      "photoUrl": "https://lh3.googleusercontent.com/a-/AOh14GiXYE6affPPrf1zIwSrSpSZFU3JjaPFXlQtnkG1vw=s64",
      "userId": "12033857363807842694"
     },
     "user_tz": -330
    },
    "id": "rHVO7PNsMaLu",
    "outputId": "3c83f144-49b2-48f0-a67a-3243b12e93aa"
   },
   "outputs": [
    {
     "name": "stdout",
     "output_type": "stream",
     "text": [
      "Please type numeric values as prompted.\n",
      "SepalLength: 3.2\n",
      "SepalWidth: 3.3\n",
      "PetalLength: 4.1\n",
      "PetalWidth: 2\n",
      "PetalWidth: 2.3\n",
      "INFO:tensorflow:Calling model_fn.\n",
      "INFO:tensorflow:Done calling model_fn.\n",
      "INFO:tensorflow:Graph was finalized.\n",
      "INFO:tensorflow:Restoring parameters from /tmp/tmpfpmwduv_/model.ckpt-10500\n",
      "INFO:tensorflow:Running local_init_op.\n",
      "INFO:tensorflow:Done running local_init_op.\n",
      "Prediction is \"Virgincia\" (75.5%)\n"
     ]
    }
   ],
   "source": [
    "def input_fn(features, batch_size=256):\n",
    "    # Convert the inputs to a Dataset without labels.\n",
    "    return tf.data.Dataset.from_tensor_slices(dict(features)).batch(batch_size)\n",
    "\n",
    "features = ['SepalLength', 'SepalWidth', 'PetalLength', 'PetalWidth']\n",
    "predict = {}\n",
    "\n",
    "print(\"Please type numeric values as prompted.\")\n",
    "for feature in features:\n",
    "  valid = True\n",
    "  while valid: \n",
    "    val = input(feature + \": \")\n",
    "    if not val.isdigit(): valid = False\n",
    "\n",
    "  predict[feature] = [float(val)]\n",
    "\n",
    "predictions = classifier.predict(input_fn=lambda: input_fn(predict))\n",
    "for pred_dict in predictions:\n",
    "    class_id = pred_dict['class_ids'][0]\n",
    "    probability = pred_dict['probabilities'][class_id]\n",
    "\n",
    "    print('Prediction is \"{}\" ({:.1f}%)'.format(\n",
    "        SPECIES[class_id], 100 * probability))"
   ]
  }
 ],
 "metadata": {
  "colab": {
   "authorship_tag": "ABX9TyOySpWsYPg4ZDFYaUa7Oa/l",
   "collapsed_sections": [],
   "name": "iris.ipynb",
   "provenance": []
  },
  "kernelspec": {
   "display_name": "Python 3",
   "language": "python",
   "name": "python3"
  },
  "language_info": {
   "codemirror_mode": {
    "name": "ipython",
    "version": 3
   },
   "file_extension": ".py",
   "mimetype": "text/x-python",
   "name": "python",
   "nbconvert_exporter": "python",
   "pygments_lexer": "ipython3",
   "version": "3.7.6"
  }
 },
 "nbformat": 4,
 "nbformat_minor": 1
}
